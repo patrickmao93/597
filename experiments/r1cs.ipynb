{
 "cells": [
  {
   "cell_type": "markdown",
   "source": [
    "## Ring Homomorphism from Vector to Polynomial "
   ],
   "metadata": {
    "collapsed": false
   },
   "id": "8c293f4793035d74"
  },
  {
   "cell_type": "code",
   "outputs": [],
   "source": [
    "import galois\n",
    "\n",
    "GF = galois.GF(79)  # this should be the curve order in real usages \n",
    "\n",
    "# let the vector v be (v_1, v_2, ...,v_3), assign x values (1, 2, ..., n) to vector elements and \n",
    "# interpolate to polynomial\n",
    "\n",
    "v1 = GF([1, 0, 1])\n",
    "v2 = GF([4, 5, 3])\n",
    "x = GF([1, 2, 3])\n",
    "\n",
    "p1 = galois.lagrange_poly(x, v1)\n",
    "p2 = galois.lagrange_poly(x, v2)\n",
    "\n",
    "# addition \n",
    "p3 = galois.lagrange_poly(x, v1 + v2)\n",
    "p4 = p1 + p2\n",
    "\n",
    "for i in range(1, 4):\n",
    "    assert p4(i) == p3(i)\n",
    "\n",
    "# multiplication\n",
    "p3 = galois.lagrange_poly(x, v1 * v2)  # Hadamard product\n",
    "p4 = p1 * p2\n",
    "\n",
    "for i in range(1, 4):\n",
    "    assert p4(i) == p3(i)\n",
    "\n",
    "# scalar multiplication\n",
    "p3 = galois.lagrange_poly(x, v1 * 3)\n",
    "p4 = p1 * 3\n",
    "\n",
    "for i in range(1, 4):\n",
    "    assert p4(i) == p3(i)"
   ],
   "metadata": {
    "collapsed": false,
    "ExecuteTime": {
     "end_time": "2024-06-10T19:29:43.286872Z",
     "start_time": "2024-06-10T19:29:43.274525Z"
    }
   },
   "id": "560999c83fdd04b9",
   "execution_count": 16
  },
  {
   "cell_type": "markdown",
   "source": [
    "## R1CS over Finite Field"
   ],
   "metadata": {
    "collapsed": false
   },
   "id": "87b81c186d4fbe99"
  },
  {
   "cell_type": "code",
   "outputs": [],
   "source": [
    "from random import randint\n",
    "\n",
    "L = [[0, 0, 1, 0, 0, 0, 0, 0],\n",
    "     [0, 0, 0, 0, 1, 0, 0, 0],\n",
    "     [0, 0, 0, 0, 0, 0, 1, 0]]\n",
    "\n",
    "R = [[0, 0, 0, 1, 0, 0, 0, 0],\n",
    "     [0, 0, 0, 0, 0, 1, 0, 0],\n",
    "     [0, 0, 0, 0, 0, 0, 0, 1]]\n",
    "\n",
    "O = [[0, 0, 0, 0, 0, 0, 1, 0],\n",
    "     [0, 0, 0, 0, 0, 0, 0, 1],\n",
    "     [0, 1, 0, 0, 0, 0, 0, 0]]\n",
    "\n",
    "L = GF(L)\n",
    "R = GF(R)\n",
    "O = GF(O)\n",
    "\n",
    "x = GF(randint(0, 78))\n",
    "y = GF(randint(0, 78))\n",
    "z = GF(randint(8, 78))\n",
    "u = GF(randint(0, 78))\n",
    "\n",
    "# circuit\n",
    "v1 = x * y\n",
    "v2 = z * u\n",
    "out = x * y * z * u\n",
    "\n",
    "# witness array\n",
    "s = GF([1, out, x, y, z, u, v1, v2])\n",
    "\n",
    "# Ls ⊙ Rs = Os\n",
    "result = L.dot(s) * R.dot(s) == O.dot(s)\n",
    "\n",
    "assert result.all(), \"system contains an inequality\""
   ],
   "metadata": {
    "collapsed": false,
    "ExecuteTime": {
     "end_time": "2024-06-10T19:29:43.293524Z",
     "start_time": "2024-06-10T19:29:43.288091Z"
    }
   },
   "id": "9093e54f5a0af270",
   "execution_count": 17
  },
  {
   "cell_type": "markdown",
   "source": [
    "## Polynomial Interpolation"
   ],
   "metadata": {
    "collapsed": false
   },
   "id": "1fc82ffa304ed85b"
  },
  {
   "cell_type": "code",
   "outputs": [
    {
     "name": "stdout",
     "output_type": "stream",
     "text": [
      "U polys [Poly(0, GF(79)) Poly(0, GF(79)) Poly(40x^2 + 37x + 3, GF(79))\n",
      " Poly(0, GF(79)) Poly(78x^2 + 4x + 76, GF(79)) Poly(0, GF(79))\n",
      " Poly(40x^2 + 38x + 1, GF(79)) Poly(0, GF(79))]\n",
      "V polys [Poly(0, GF(79)) Poly(0, GF(79)) Poly(0, GF(79))\n",
      " Poly(40x^2 + 37x + 3, GF(79)) Poly(0, GF(79))\n",
      " Poly(78x^2 + 4x + 76, GF(79)) Poly(0, GF(79))\n",
      " Poly(40x^2 + 38x + 1, GF(79))]\n",
      "W polys [Poly(0, GF(79)) Poly(40x^2 + 38x + 1, GF(79)) Poly(0, GF(79))\n",
      " Poly(0, GF(79)) Poly(0, GF(79)) Poly(0, GF(79))\n",
      " Poly(40x^2 + 37x + 3, GF(79)) Poly(78x^2 + 4x + 76, GF(79))]\n"
     ]
    }
   ],
   "source": [
    "import numpy as np\n",
    "\n",
    "xs = GF([1, 2, 3])\n",
    "\n",
    "\n",
    "def interpolate(vec):\n",
    "    return galois.lagrange_poly(xs, vec)\n",
    "\n",
    "\n",
    "U_polys = np.apply_along_axis(interpolate, 0, L)\n",
    "V_polys = np.apply_along_axis(interpolate, 0, R)\n",
    "W_polys = np.apply_along_axis(interpolate, 0, O)\n",
    "\n",
    "print(\"U polys\", U_polys)\n",
    "print(\"V polys\", V_polys)\n",
    "print(\"W polys\", W_polys)"
   ],
   "metadata": {
    "collapsed": false,
    "ExecuteTime": {
     "end_time": "2024-06-10T19:29:43.305447Z",
     "start_time": "2024-06-10T19:29:43.296886Z"
    }
   },
   "id": "fd380174e5c93903",
   "execution_count": 18
  },
  {
   "cell_type": "markdown",
   "source": [
    "## Computing h(x)"
   ],
   "metadata": {
    "collapsed": false
   },
   "id": "6cd246572556388b"
  },
  {
   "cell_type": "code",
   "outputs": [
    {
     "name": "stdout",
     "output_type": "stream",
     "text": [
      "49x + 40\n"
     ]
    }
   ],
   "source": [
    "from galois import Poly\n",
    "\n",
    "# create the vanishing poly up to n\n",
    "# (x-1)(x-2)(x-3)\n",
    "t_poly = Poly([1, 78], GF) * Poly([1, 77], GF) * Poly([1, 76], GF)\n",
    "\n",
    "# (U⋅a)(V⋅a) = (W⋅a) + h(x)⋅t(x)\n",
    "# h(x) = ((U⋅a)(V⋅a)−(W⋅a))/t(x) \n",
    "LHS = U_polys.dot(s) * V_polys.dot(s)\n",
    "RHS = W_polys.dot(s)\n",
    "h_poly, remainder = divmod((LHS - RHS), t_poly)\n",
    "\n",
    "print(h_poly)\n",
    "assert remainder == 0, \"remainder not 0\"\n",
    "\n",
    "# check (U⋅a)(V⋅a) = (W⋅a) + h(x)⋅t(x)\n",
    "assert LHS == RHS + h_poly * t_poly, \"system contains inequality\""
   ],
   "metadata": {
    "collapsed": false,
    "ExecuteTime": {
     "end_time": "2024-06-10T19:37:52.145789Z",
     "start_time": "2024-06-10T19:37:52.132911Z"
    }
   },
   "id": "afc77b0cd771b959",
   "execution_count": 30
  },
  {
   "cell_type": "code",
   "outputs": [],
   "source": [],
   "metadata": {
    "collapsed": false
   },
   "id": "53482ade15adb40a"
  }
 ],
 "metadata": {
  "kernelspec": {
   "display_name": "Python 3",
   "language": "python",
   "name": "python3"
  },
  "language_info": {
   "codemirror_mode": {
    "name": "ipython",
    "version": 3
   },
   "file_extension": ".py",
   "mimetype": "text/x-python",
   "name": "python",
   "nbconvert_exporter": "python",
   "pygments_lexer": "ipython3",
   "version": "3.9.6"
  }
 },
 "nbformat": 4,
 "nbformat_minor": 5
}
