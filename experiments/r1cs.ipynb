{
 "cells": [
  {
   "cell_type": "markdown",
   "id": "581c326ca1f04072",
   "metadata": {
    "collapsed": false
   },
   "source": [
    "## R1CS with integers"
   ]
  },
  {
   "cell_type": "code",
   "execution_count": 1,
   "id": "initial_id",
   "metadata": {
    "ExecuteTime": {
     "end_time": "2024-06-09T09:57:29.015208Z",
     "start_time": "2024-06-09T09:57:29.007983Z"
    },
    "collapsed": true
   },
   "outputs": [],
   "source": [
    "import numpy as np\n",
    "import random\n",
    "\n",
    "# enter the A B and C from above\n",
    "A = np.array([[0, 0, 1, 0, 0, 0, 0, 0],\n",
    "              [0, 0, 0, 0, 1, 0, 0, 0],\n",
    "              [0, 0, 0, 0, 0, 0, 1, 0]])\n",
    "\n",
    "B = np.array([[0, 0, 0, 1, 0, 0, 0, 0],\n",
    "              [0, 0, 0, 0, 0, 1, 0, 0],\n",
    "              [0, 0, 0, 0, 0, 0, 0, 1]])\n",
    "\n",
    "C = np.array([[0, 0, 0, 0, 0, 0, 1, 0],\n",
    "              [0, 0, 0, 0, 0, 0, 0, 1],\n",
    "              [0, 1, 0, 0, 0, 0, 0, 0]])\n",
    "\n",
    "x = random.randint(1, 1000)\n",
    "y = random.randint(1, 1000)\n",
    "z = random.randint(1, 1000)\n",
    "u = random.randint(1, 1000)\n",
    "\n",
    "# compute the algebraic circuit\n",
    "out = x * y * z * u\n",
    "v1 = x * y\n",
    "v2 = z * u\n",
    "\n",
    "# create the witness vector\n",
    "w = np.array([1, out, x, y, z, u, v1, v2])\n",
    "\n",
    "# element-wise multiplication, not matrix multiplication\n",
    "result = C.dot(w) == np.multiply(A.dot(w), B.dot(w))\n",
    "\n",
    "assert result.all(), \"system contains an inequality\""
   ]
  },
  {
   "cell_type": "markdown",
   "id": "1fc82ffa304ed85b",
   "metadata": {
    "collapsed": false
   },
   "source": [
    "## Polynomial Interpolation"
   ]
  },
  {
   "cell_type": "code",
   "execution_count": 5,
   "id": "fd380174e5c93903",
   "metadata": {
    "collapsed": false,
    "ExecuteTime": {
     "end_time": "2024-06-10T07:49:53.066858Z",
     "start_time": "2024-06-10T07:49:53.062134Z"
    }
   },
   "outputs": [
    {
     "name": "stdout",
     "output_type": "stream",
     "text": [
      "    2\n",
      "-7 x + 29 x - 18\n"
     ]
    }
   ],
   "source": [
    "import numpy as np\n",
    "from scipy.interpolate import lagrange\n",
    "\n",
    "x = np.array([1, 2, 3])\n",
    "y = np.array([4, 12, 6])\n",
    "\n",
    "p4 = lagrange(x, y)\n",
    "\n",
    "print(p4)\n",
    "assert p4(1) == y[0]\n",
    "assert p4(2) == y[1]\n",
    "assert p4(3) == y[2]"
   ]
  },
  {
   "cell_type": "markdown",
   "source": [
    "### Homomorphism from Vector to Polynomial "
   ],
   "metadata": {
    "collapsed": false
   },
   "id": "126663bc62f0b673"
  },
  {
   "cell_type": "code",
   "outputs": [],
   "source": [
    "# let the vector v be (v_1, v_2, ...,v_3), assign x values (1, 2, ..., n) to vector elements and \n",
    "# interpolate to polynomial\n",
    "\n",
    "v1 = np.array([1, 0, 1])\n",
    "v2 = np.array([-1, 5, 3])\n",
    "x = np.array([1, 2, 3])\n",
    "\n",
    "p1 = lagrange(x, v1)\n",
    "p2 = lagrange(x, v2)\n",
    "\n",
    "# addition \n",
    "p3 = lagrange(x, v1 + v2)\n",
    "p4 = p1 + p2\n",
    "\n",
    "for i in range(1, 4):\n",
    "    assert p4(i) == p3(i)\n",
    "\n",
    "# multiplication\n",
    "p3 = lagrange(x, v1 * v2) # Hadamard product\n",
    "p4 = p1 * p2\n",
    "\n",
    "for i in range(1, 4):\n",
    "    assert p4(i) == p3(i)\n",
    "\n",
    "# scalar multiplication\n",
    "p3 = lagrange(x, v1 * 3)\n",
    "p4 = p1 * 3\n",
    "\n",
    "for i in range(1, 4):\n",
    "    assert p4(i) == p3(i)"
   ],
   "metadata": {
    "collapsed": false,
    "ExecuteTime": {
     "end_time": "2024-06-10T08:04:38.643133Z",
     "start_time": "2024-06-10T08:04:38.635400Z"
    }
   },
   "id": "560999c83fdd04b9",
   "execution_count": 29
  },
  {
   "cell_type": "code",
   "outputs": [],
   "source": [],
   "metadata": {
    "collapsed": false
   },
   "id": "afc77b0cd771b959"
  }
 ],
 "metadata": {
  "kernelspec": {
   "display_name": "Python 3",
   "language": "python",
   "name": "python3"
  },
  "language_info": {
   "codemirror_mode": {
    "name": "ipython",
    "version": 3
   },
   "file_extension": ".py",
   "mimetype": "text/x-python",
   "name": "python",
   "nbconvert_exporter": "python",
   "pygments_lexer": "ipython3",
   "version": "3.9.6"
  }
 },
 "nbformat": 4,
 "nbformat_minor": 5
}
