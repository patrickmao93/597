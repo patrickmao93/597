{
 "cells": [
  {
   "cell_type": "markdown",
   "source": [
    "## Solving y"
   ],
   "metadata": {
    "collapsed": false
   },
   "id": "7914d0fe9d01cc6e"
  },
  {
   "cell_type": "code",
   "execution_count": 1,
   "id": "initial_id",
   "metadata": {
    "collapsed": true,
    "ExecuteTime": {
     "end_time": "2024-06-05T13:25:34.804425Z",
     "start_time": "2024-06-05T13:25:34.796043Z"
    }
   },
   "outputs": [],
   "source": [
    "from libnum import sqrtmod_prime_power, has_sqrtmod_prime_power"
   ]
  },
  {
   "cell_type": "code",
   "outputs": [
    {
     "name": "stdout",
     "output_type": "stream",
     "text": [
      "0 True\n",
      "1 True\n",
      "2 False\n",
      "3 True\n",
      "4 True\n",
      "5 True\n",
      "6 False\n",
      "7 False\n",
      "8 False\n",
      "9 True\n",
      "10 False\n"
     ]
    }
   ],
   "source": [
    "for i in range(0, 11):\n",
    "    print(i, has_sqrtmod_prime_power(i, 11))"
   ],
   "metadata": {
    "collapsed": false,
    "ExecuteTime": {
     "end_time": "2024-06-05T13:25:34.807932Z",
     "start_time": "2024-06-05T13:25:34.805783Z"
    }
   },
   "id": "cee3d776e61562ad",
   "execution_count": 2
  },
  {
   "cell_type": "code",
   "outputs": [
    {
     "data": {
      "text/plain": "[4, 7]"
     },
     "execution_count": 3,
     "metadata": {},
     "output_type": "execute_result"
    }
   ],
   "source": [
    "list(sqrtmod_prime_power(5, 11))"
   ],
   "metadata": {
    "collapsed": false,
    "ExecuteTime": {
     "end_time": "2024-06-05T13:25:34.811983Z",
     "start_time": "2024-06-05T13:25:34.808682Z"
    }
   },
   "id": "c9735ee2112db6f4",
   "execution_count": 3
  },
  {
   "cell_type": "code",
   "outputs": [],
   "source": [
    "assert (4 ** 2) % 11 == 5\n",
    "assert (7 ** 2) % 11 == 5  # 7 == \"-4\" "
   ],
   "metadata": {
    "collapsed": false,
    "ExecuteTime": {
     "end_time": "2024-06-05T13:25:34.814397Z",
     "start_time": "2024-06-05T13:25:34.812745Z"
    }
   },
   "id": "439c123ece45f345",
   "execution_count": 4
  },
  {
   "cell_type": "markdown",
   "source": [
    "## Generate points"
   ],
   "metadata": {
    "collapsed": false
   },
   "id": "e8c49414026efaaa"
  },
  {
   "cell_type": "code",
   "outputs": [],
   "source": [
    "def gen_points(p):\n",
    "    xs = []\n",
    "    ys = []\n",
    "\n",
    "    for x in range(p):\n",
    "        y_sq = (x ** 3 + 3) % p\n",
    "        if has_sqrtmod_prime_power(y_sq, p):\n",
    "            roots = sqrtmod_prime_power(y_sq, p)\n",
    "            for y in roots:\n",
    "                xs.append(x)\n",
    "                ys.append(y)\n",
    "\n",
    "    return xs, ys"
   ],
   "metadata": {
    "collapsed": false,
    "ExecuteTime": {
     "end_time": "2024-06-05T13:25:34.817919Z",
     "start_time": "2024-06-05T13:25:34.815916Z"
    }
   },
   "id": "1eed503c3a22ce83",
   "execution_count": 5
  },
  {
   "cell_type": "code",
   "outputs": [
    {
     "name": "stdout",
     "output_type": "stream",
     "text": [
      "(0, 5)\n",
      "(0, 6)\n",
      "(1, 9)\n",
      "(1, 2)\n",
      "(2, 0)\n",
      "(4, 1)\n",
      "(4, 10)\n",
      "(7, 4)\n",
      "(7, 7)\n",
      "(8, 3)\n",
      "(8, 8)\n"
     ]
    }
   ],
   "source": [
    "(xs, ys) = gen_points(11)\n",
    "for point in zip(xs, ys):\n",
    "    print(point)"
   ],
   "metadata": {
    "collapsed": false,
    "ExecuteTime": {
     "end_time": "2024-06-05T13:25:34.820383Z",
     "start_time": "2024-06-05T13:25:34.818566Z"
    }
   },
   "id": "eeb786690d2a8f13",
   "execution_count": 6
  },
  {
   "cell_type": "code",
   "outputs": [],
   "source": [
    "import matplotlib.pyplot as plt"
   ],
   "metadata": {
    "collapsed": false,
    "ExecuteTime": {
     "end_time": "2024-06-05T13:25:35.142146Z",
     "start_time": "2024-06-05T13:25:34.821016Z"
    }
   },
   "id": "6cae75363cb0c46c",
   "execution_count": 7
  },
  {
   "cell_type": "code",
   "outputs": [
    {
     "data": {
      "text/plain": "<matplotlib.collections.PathCollection at 0x10fe438b0>"
     },
     "execution_count": 8,
     "metadata": {},
     "output_type": "execute_result"
    },
    {
     "data": {
      "text/plain": "<Figure size 600x600 with 1 Axes>",
      "image/png": "[encoded data removed]"
     },
     "metadata": {},
     "output_type": "display_data"
    }
   ],
   "source": [
    "xs, ys = gen_points(11)\n",
    "fig, (ax1) = plt.subplots(1, 1)\n",
    "fig.suptitle('y^2 = x^3 + 3 (mod p)')\n",
    "fig.set_size_inches(6, 6)\n",
    "ax1.set_xticks(range(0, 11))\n",
    "ax1.set_yticks(range(0, 11))\n",
    "plt.grid()\n",
    "plt.scatter(xs, ys)"
   ],
   "metadata": {
    "collapsed": false,
    "ExecuteTime": {
     "end_time": "2024-06-05T13:25:35.232505Z",
     "start_time": "2024-06-05T13:25:35.143123Z"
    }
   },
   "id": "fdd1c71faaeea560",
   "execution_count": 8
  },
  {
   "cell_type": "markdown",
   "source": [
    "## Point addition"
   ],
   "metadata": {
    "collapsed": false
   },
   "id": "44f01f488bada0cc"
  },
  {
   "cell_type": "code",
   "outputs": [],
   "source": [
    "def inv(x, p):\n",
    "    return pow(x, -1, p)\n",
    "\n",
    "\n",
    "def slope(x_p, y_p, x_q, y_q, p):\n",
    "    if x_p == x_q and y_p == y_q:\n",
    "        # P = Q\n",
    "        return ((3 * x_p ** 2) % p * inv(2 * y_p, p)) % p\n",
    "    else:\n",
    "        # P != Q\n",
    "        return ((y_q - y_p) * inv(x_q - x_p, p)) % p\n",
    "\n"
   ],
   "metadata": {
    "collapsed": false,
    "ExecuteTime": {
     "end_time": "2024-06-05T13:25:35.236147Z",
     "start_time": "2024-06-05T13:25:35.233349Z"
    }
   },
   "id": "602d16baf00684d5",
   "execution_count": 9
  },
  {
   "cell_type": "code",
   "outputs": [],
   "source": [
    "assert inv(3, 11) == 4\n",
    "assert inv(5, 11) == 9\n"
   ],
   "metadata": {
    "collapsed": false,
    "ExecuteTime": {
     "end_time": "2024-06-05T13:25:35.238796Z",
     "start_time": "2024-06-05T13:25:35.236815Z"
    }
   },
   "id": "5679c2bef83db03",
   "execution_count": 10
  },
  {
   "cell_type": "code",
   "outputs": [],
   "source": [
    "def add(x_p, y_p, x_q, y_q, p):\n",
    "    if x_p is y_p is None:\n",
    "        # 0 + Q = Q\n",
    "        return x_q, y_q\n",
    "\n",
    "    if x_q is y_q is None:\n",
    "        # P + 0 = P\n",
    "        return x_p, y_p\n",
    "\n",
    "    assert (x_q ** 3 + 3) % p == (y_q ** 2) % p, \"q not on curve\"\n",
    "    assert (x_p ** 3 + 3) % p == (y_p ** 2) % p, \"p not on curve\"\n",
    "\n",
    "    if x_p == x_q and y_p == (p - y_q) % p:\n",
    "        # P + Q = 0\n",
    "        return None, None\n",
    "\n",
    "    m = slope(x_p, y_p, x_q, y_q, p)\n",
    "\n",
    "    if x_p == x_q and y_p == y_q:\n",
    "        x_r = (m ** 2 - 2 * x_p) % p\n",
    "        y_r = (-m * x_r + m * x_p - y_p) % p\n",
    "    else:\n",
    "        x_r = (m ** 2 - x_p - x_q) % p\n",
    "        y_r = (m * (x_p - x_r) - y_p) % p\n",
    "\n",
    "    return x_r, y_r"
   ],
   "metadata": {
    "collapsed": false,
    "ExecuteTime": {
     "end_time": "2024-06-05T13:25:35.242807Z",
     "start_time": "2024-06-05T13:25:35.239443Z"
    }
   },
   "id": "a96daede3d11c7e0",
   "execution_count": 11
  },
  {
   "cell_type": "code",
   "outputs": [
    {
     "name": "stdout",
     "output_type": "stream",
     "text": [
      "(4, 1)\n",
      "(None, None)\n",
      "(1, 9)\n"
     ]
    }
   ],
   "source": [
    "# (0, 5) + (1, 9)\n",
    "print(add(0, 5, 1, 9, 11))\n",
    "# (0, 5) + (0, 6) = 0\n",
    "print(add(0, 5, 0, 6, 11))\n",
    "# (7, 7) + (7, 7)\n",
    "print(add(7, 7, 4, 10, 11))\n"
   ],
   "metadata": {
    "collapsed": false,
    "ExecuteTime": {
     "end_time": "2024-06-05T13:25:35.245771Z",
     "start_time": "2024-06-05T13:25:35.243596Z"
    }
   },
   "id": "d7446734479043d2",
   "execution_count": 12
  },
  {
   "cell_type": "markdown",
   "source": [
    "## Generating a subgroup from a generator point"
   ],
   "metadata": {
    "collapsed": false
   },
   "id": "132545625f44ddc"
  },
  {
   "cell_type": "code",
   "outputs": [],
   "source": [
    "def subgroup(x_g, y_g, p):\n",
    "    xs = [None, x_g]\n",
    "    ys = [None, y_g]\n",
    "\n",
    "    for i in range(2, 12):\n",
    "        prev_x, prev_y = xs[-1], ys[-1]\n",
    "        (x, y) = add(prev_x, prev_y, x_g, y_g, p)\n",
    "        xs.append(x)\n",
    "        ys.append(y)\n",
    "\n",
    "    return xs, ys\n"
   ],
   "metadata": {
    "collapsed": false,
    "ExecuteTime": {
     "end_time": "2024-06-05T13:25:35.248653Z",
     "start_time": "2024-06-05T13:25:35.246409Z"
    }
   },
   "id": "4e7751b5e5557e49",
   "execution_count": 13
  },
  {
   "cell_type": "code",
   "outputs": [
    {
     "name": "stdout",
     "output_type": "stream",
     "text": [
      "[None, 7, 0, 2, 0, 7, None, 7, 0, 2, 0, 7]\n",
      "[None, 7, 6, 0, 5, 4, None, 7, 6, 0, 5, 4]\n"
     ]
    }
   ],
   "source": [
    "(xs, ys) = subgroup(7, 7, 11)\n",
    "print(xs)\n",
    "print(ys)"
   ],
   "metadata": {
    "collapsed": false,
    "ExecuteTime": {
     "end_time": "2024-06-05T13:25:35.253345Z",
     "start_time": "2024-06-05T13:25:35.251114Z"
    }
   },
   "id": "bf389862172fc05d",
   "execution_count": 14
  },
  {
   "cell_type": "markdown",
   "source": [
    "## Homomorphism to Integers mod p"
   ],
   "metadata": {
    "collapsed": false
   },
   "id": "876ae16642297e73"
  },
  {
   "cell_type": "code",
   "outputs": [],
   "source": [
    "def gen_phi(x_g, y_g, p):\n",
    "    points = subgroup(x_g, y_g, p)\n",
    "    pts_to_int = {}\n",
    "    for (i, pt) in enumerate(zip(points[0], points[1])):\n",
    "        pts_to_int[pt] = i\n",
    "    return pts_to_int"
   ],
   "metadata": {
    "collapsed": false,
    "ExecuteTime": {
     "end_time": "2024-06-05T13:25:35.256236Z",
     "start_time": "2024-06-05T13:25:35.254180Z"
    }
   },
   "id": "37461e50bc7a8c80",
   "execution_count": 15
  },
  {
   "cell_type": "code",
   "outputs": [
    {
     "name": "stdout",
     "output_type": "stream",
     "text": [
      "{(None, None): 0, (4, 10): 1, (7, 7): 2, (1, 9): 3, (0, 6): 4, (8, 8): 5, (2, 0): 6, (8, 3): 7, (0, 5): 8, (1, 2): 9, (7, 4): 10, (4, 1): 11}\n"
     ]
    }
   ],
   "source": [
    "phi = gen_phi(4, 10, 11)\n",
    "print(phi)"
   ],
   "metadata": {
    "collapsed": false,
    "ExecuteTime": {
     "end_time": "2024-06-05T13:25:35.259017Z",
     "start_time": "2024-06-05T13:25:35.257091Z"
    }
   },
   "id": "52dc2477b796f813",
   "execution_count": 16
  },
  {
   "cell_type": "code",
   "outputs": [],
   "source": [
    "def check_phi(x_p, y_p, x_q, y_q, p, phi):\n",
    "    group_order = len(phi)\n",
    "    pt_sum = add(x_p, y_p, x_q, y_q, p)\n",
    "    int_sum = (phi[(x_p, y_p)] + phi[x_q, y_q]) % group_order\n",
    "    assert phi[pt_sum] == int_sum, f\"phi(({x_p}, {y_p}) + ({x_q}, {y_q})) != phi(({x_p}, {y_p})) + phi(({x_q}, {y_q}))\""
   ],
   "metadata": {
    "collapsed": false,
    "ExecuteTime": {
     "end_time": "2024-06-05T13:25:35.262319Z",
     "start_time": "2024-06-05T13:25:35.259794Z"
    }
   },
   "id": "56c50b086e11cf49",
   "execution_count": 17
  },
  {
   "cell_type": "code",
   "outputs": [],
   "source": [
    "for x_p, y_p in phi:\n",
    "    for x_q, y_q in phi:\n",
    "        check_phi(x_p, y_p, x_q, y_q, 11, phi)"
   ],
   "metadata": {
    "collapsed": false,
    "ExecuteTime": {
     "end_time": "2024-06-05T13:25:35.265133Z",
     "start_time": "2024-06-05T13:25:35.262976Z"
    }
   },
   "id": "142c9b3b8b77b226",
   "execution_count": 18
  },
  {
   "cell_type": "code",
   "outputs": [],
   "source": [
    "def multiply(x_p, y_p, p, n):\n",
    "    # implements the \"double and add\" algorithm\n",
    "    x, y = x_p, y_p\n",
    "    x_res, y_res = None, None\n",
    "    rem = n\n",
    "    while rem > 0:\n",
    "        if rem & 1 == 1:\n",
    "            x_res, y_res = add(x_res, y_res, x, y, p)\n",
    "        x, y = add(x, y, x, y, p)\n",
    "        rem >>= 1\n",
    "    return x_res, y_res"
   ],
   "metadata": {
    "collapsed": false,
    "ExecuteTime": {
     "end_time": "2024-06-05T13:25:35.267908Z",
     "start_time": "2024-06-05T13:25:35.265812Z"
    }
   },
   "id": "d96f90977e75a82",
   "execution_count": 19
  },
  {
   "cell_type": "code",
   "outputs": [],
   "source": [
    "assert multiply(4, 10, 11, 0) == (None, None)\n",
    "assert multiply(4, 10, 11, 1) == (4, 10)\n",
    "assert multiply(4, 10, 11, 2) == (7, 7)\n"
   ],
   "metadata": {
    "collapsed": false,
    "ExecuteTime": {
     "end_time": "2024-06-05T13:25:35.270925Z",
     "start_time": "2024-06-05T13:25:35.268800Z"
    }
   },
   "id": "f67526096084dde",
   "execution_count": 20
  },
  {
   "cell_type": "markdown",
   "source": [
    "## Diffie-Hellman key exchange with my toy curve"
   ],
   "metadata": {
    "collapsed": false
   },
   "id": "c4f81bd6d4acafc5"
  },
  {
   "cell_type": "code",
   "outputs": [],
   "source": [
    "# common reference point\n",
    "x_g, y_g = 4, 10\n",
    "\n",
    "# private key\n",
    "a = 3\n",
    "b = 4\n",
    "\n",
    "# public key\n",
    "A = multiply(x_g, y_g, 11, a)\n",
    "B = multiply(x_g, y_g, 11, b)\n",
    "\n",
    "# B -> (x, y)\n",
    "Ba = multiply(B[0], B[1], 11, a)\n",
    "Ab = multiply(A[0], A[1], 11, b)\n",
    "\n",
    "assert Ab == Ba"
   ],
   "metadata": {
    "collapsed": false,
    "ExecuteTime": {
     "end_time": "2024-06-05T13:49:30.420075Z",
     "start_time": "2024-06-05T13:49:30.416910Z"
    }
   },
   "id": "b27c29cccf594146",
   "execution_count": 23
  },
  {
   "cell_type": "markdown",
   "source": [
    "# Simple argument of knowledge with my toy curve\n",
    "\n",
    "I know x and y such that x + y = 15"
   ],
   "metadata": {
    "collapsed": false
   },
   "id": "b21bb2c677d99cf8"
  },
  {
   "cell_type": "code",
   "outputs": [],
   "source": [
    "# common reference point\n",
    "x_g, y_g = 4, 10\n",
    "\n",
    "# prover\n",
    "x = 10\n",
    "y = 5\n",
    "X = multiply(x_g, y_g, 11, x)\n",
    "Y = multiply(x_g, y_g, 11, y)\n",
    "\n",
    "# verifier\n",
    "z = 15\n",
    "Z = multiply(x_g, y_g, 11, z)\n",
    "assert add(X[0], X[1], Y[0], Y[1], 11) == Z"
   ],
   "metadata": {
    "collapsed": false,
    "ExecuteTime": {
     "end_time": "2024-06-05T13:25:35.277568Z",
     "start_time": "2024-06-05T13:25:35.275137Z"
    }
   },
   "id": "a452f2f8d19a8553",
   "execution_count": 22
  }
 ],
 "metadata": {
  "kernelspec": {
   "display_name": "Python 3",
   "language": "python",
   "name": "python3"
  },
  "language_info": {
   "codemirror_mode": {
    "name": "ipython",
    "version": 2
   },
   "file_extension": ".py",
   "mimetype": "text/x-python",
   "name": "python",
   "nbconvert_exporter": "python",
   "pygments_lexer": "ipython2",
   "version": "2.7.6"
  }
 },
 "nbformat": 4,
 "nbformat_minor": 5
}
