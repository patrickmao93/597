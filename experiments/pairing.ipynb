{
 "cells": [
  {
   "cell_type": "markdown",
   "source": [
    "## Bilinear Pairing"
   ],
   "metadata": {
    "collapsed": false
   },
   "id": "93e957a011aea414"
  },
  {
   "cell_type": "code",
   "outputs": [],
   "source": [
    "from py_ecc.optimized_bn128 import G1, G2, pairing as e, add, multiply as mul, eq"
   ],
   "metadata": {
    "collapsed": false,
    "ExecuteTime": {
     "end_time": "2024-06-05T13:21:57.581647Z",
     "start_time": "2024-06-05T13:21:57.579436Z"
    }
   },
   "id": "ed5176d4c134592",
   "execution_count": 4
  },
  {
   "cell_type": "code",
   "outputs": [
    {
     "data": {
      "text/plain": "True"
     },
     "execution_count": 12,
     "metadata": {},
     "output_type": "execute_result"
    }
   ],
   "source": [
    "A = mul(G2, 5)\n",
    "B = mul(G1, 6)\n",
    "C = mul(G2, 5 * 6)\n",
    "e(A, B) == e(C, G1)"
   ],
   "metadata": {
    "collapsed": false,
    "ExecuteTime": {
     "end_time": "2024-06-05T13:22:56.512698Z",
     "start_time": "2024-06-05T13:22:55.854411Z"
    }
   },
   "id": "13a84a5fc3cd57a9",
   "execution_count": 12
  }
 ],
 "metadata": {
  "kernelspec": {
   "display_name": "Python 3",
   "language": "python",
   "name": "python3"
  },
  "language_info": {
   "codemirror_mode": {
    "name": "ipython",
    "version": 2
   },
   "file_extension": ".py",
   "mimetype": "text/x-python",
   "name": "python",
   "nbconvert_exporter": "python",
   "pygments_lexer": "ipython2",
   "version": "2.7.6"
  }
 },
 "nbformat": 4,
 "nbformat_minor": 5
}
