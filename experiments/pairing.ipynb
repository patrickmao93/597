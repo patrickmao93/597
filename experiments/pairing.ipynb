{
 "cells": [
  {
   "cell_type": "markdown",
   "source": [
    "## Bilinear Pairing"
   ],
   "metadata": {
    "collapsed": false
   },
   "id": "93e957a011aea414"
  },
  {
   "cell_type": "code",
   "outputs": [],
   "source": [
    "from py_ecc.optimized_bn128 import G1, G2, pairing as e, add, multiply as mul, eq"
   ],
   "metadata": {
    "collapsed": false,
    "ExecuteTime": {
     "end_time": "2024-06-18T08:43:26.975256Z",
     "start_time": "2024-06-18T08:43:26.972262Z"
    }
   },
   "id": "ed5176d4c134592",
   "execution_count": 4
  },
  {
   "cell_type": "code",
   "outputs": [],
   "source": [
    "# e(a, b) = e(ab, 1) = e(1, ab)\n",
    "assert e(mul(G2, 5), mul(G1, 6)) == e(mul(G2, 5 * 6), G1)\n",
    "assert e(mul(G2, 5 * 6), G1) == e(G2, mul(G1, 5 * 6))\n",
    "\n",
    "# e(a + b, c) = e(a, c) * e(b, c)\n",
    "a = mul(G2, 3)\n",
    "b = mul(G2, 4)\n",
    "c = mul(G1, 5)\n",
    "assert e(add(a, b), c) == e(a, c) * e(b, c)\n",
    "\n",
    "# e(a, b + c) = e(a, b) * e(a, c)\n",
    "a = mul(G2, 3)\n",
    "b = mul(G1, 4)\n",
    "c = mul(G1, 5)\n",
    "assert e(a, add(b, c)) == e(a, b) * e(a, c)"
   ],
   "metadata": {
    "collapsed": false,
    "ExecuteTime": {
     "end_time": "2024-06-18T08:46:42.702272Z",
     "start_time": "2024-06-18T08:46:39.609098Z"
    }
   },
   "id": "13a84a5fc3cd57a9",
   "execution_count": 7
  }
 ],
 "metadata": {
  "kernelspec": {
   "display_name": "Python 3",
   "language": "python",
   "name": "python3"
  },
  "language_info": {
   "codemirror_mode": {
    "name": "ipython",
    "version": 2
   },
   "file_extension": ".py",
   "mimetype": "text/x-python",
   "name": "python",
   "nbconvert_exporter": "python",
   "pygments_lexer": "ipython2",
   "version": "2.7.6"
  }
 },
 "nbformat": 4,
 "nbformat_minor": 5
}
